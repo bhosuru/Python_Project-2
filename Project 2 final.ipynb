{
 "metadata": {
  "language_info": {
   "codemirror_mode": {
    "name": "ipython",
    "version": 3
   },
   "file_extension": ".py",
   "mimetype": "text/x-python",
   "name": "python",
   "nbconvert_exporter": "python",
   "pygments_lexer": "ipython3",
   "version": "3.8.6-final"
  },
  "orig_nbformat": 2,
  "kernelspec": {
   "name": "python3",
   "display_name": "Python 3",
   "language": "python"
  }
 },
 "nbformat": 4,
 "nbformat_minor": 2,
 "cells": [
  {
   "source": [
    "Project 2 - Cleavage sites and polymorphisms \n"
   ],
   "cell_type": "markdown",
   "metadata": {}
  },
  {
   "source": [
    "INTRODUCTION: \n",
    "\n",
    "Scientific Question: How many similar genes are present in the two primate isoform datasets provided by the Daugherty lab? \n",
    "\n",
    "Background: \n",
    "\n",
    "One of the projects in the daugherty lab is to map primate isoform clevage data to another data set with the same cleavage data across isoforms with population diversity. This way, the lab can acess what genes have population diversity easily without having to reference two data sets constantly. The data is sourced from two memebers of the lab: Brian Tsu (PhD student) and Bryant Cao (Masters student) who are my labmates in the Daugherty lab. \n",
    "\n",
    "A little bit of background on viruses. Viruses have proteases that cleave human genes. When human genes are cleaved, some mutatae to avoid further deterioartion and some do not. The first data set has all the clevage site information and the second data set as all the mutataion (diversity) infomration. \n",
    "https://www.ncbi.nlm.nih.gov/pmc/articles/PMC7150265/\n",
    "https://pubmed.ncbi.nlm.nih.gov/3444396/\n",
    "\n",
    "Hypothesis: If there are clevage sites for a gene, then it must have population diversity. \n",
    "\n",
    "Description: \n",
    "There are 95,265 genes with clevage site positions in the data set \"counts_tog_AGM_ORFeome_mapping\" which I will be referring to as data set 1. There 1199 genes with population diversity in the data set \"filtered_pascaf_codon_level_data\" which I will be referring to as data set 2. There are repititions of some gene in data set 1. First, I imported the data sets as a CSV file. My lab mates taught me how to do that! Next, I found the stop site of the cleavage site by using python to add 7 to the start sites because its an 8-mer using numpy. Next, I did some mini tasks like adding 8 new columns to data set 1 and moving the column order just for cleanliness. Next, I found out the number of similar genes in both datasets. Then I removed the duplicate genes and found the real number of common genes. Lastly, I exported the data to an excel sheet using excel writer. The hypothesis I made was wrong. If every gene with a clevage site had human diversity, then I would not have to do this project! Not all genes evolve after the presence of a clevage site. Which is why we see only 737 genes at the end that have human diversity data. \n",
    "\n",
    "\n",
    "\n"
   ],
   "cell_type": "markdown",
   "metadata": {}
  },
  {
   "source": [
    "\n",
    "LOADING IN PACKAGES: \n",
    "\n",
    "Pandas: Pandas is a very popular python package used to manipulate large data sets. It is very rapid and easy once people get used to it. It is useful in doing real-world data analysis and is the most powerful open-source manipulation tool available in any language. Pandas can be used to manipulate excel sheet data, tabular data, ordered or unordered data, statistical data sets etc. The two main data structures of pandas, series and data frame, handle the vast majority of typical uses.\n",
    "I used Pandas to import my data sets as csv files. Pandas helped me to manipulate data in the csv file column by column when I was checking if my code worked. I also used pandas to handle missing data, delete an dinsert columns, align data, index data, subsetting data, and joining data sets. \n",
    "\n",
    "Here are some additional uses/description of pandas:\n",
    "Easy handling of missing data: represented as NaN\n",
    "\n",
    "Size mutability: columns can be inserted and deleted from DataFrame \n",
    "\n",
    "Automatic and explicit data alignment: objects can be explicitly aligned to a set of labels\n",
    "\n",
    "Make it easy to convert differently-indexed data in other Python and NumPy data structures into DataFrame objects\n",
    "\n",
    "Intelligent label - fancy indexing, subsetting of large data sets, merging and joining data sets\n",
    "\n",
    "Robust IO tools for loading data from flat files - (CSV and delimited), Excel files etc.  \n",
    "\n",
    "\n",
    "#https://pandas.pydata.org/pandas-docs/stable/getting_started/overview.html\n",
    "https://pypi.org/project/pandas/\n",
    "\n",
    "\n",
    "NumPy: NumPy stands for Numerical python. It is a Python library tool utilized to work with arrays predominantly. It has functions for working in domains like linear algebra, matrices etc. It is also an open-source project like pandas. In fact, Pandas was built on top of NumPy. and you can use it freely. NumPy is faster than lists. NumPy arrays are usually stored at one continuous place in memory making the processes of accessing and manipulation very effective. NumPy is a mostly written in python but can also be used in C and C++. I used numpy to turn the rowns and columns into lists so its easier for me to delete and add data points.\n",
    "Here are some additional uses/description of numpy: \n",
    "\n",
    "POWERFUL N-DIMENSIONAL ARRAYS -  the NumPy vectorization is fast and versatile. Indexing and broadcasting concepts are the de-facto standards of array computing today in the coding world.\n",
    "\n",
    "NUMERICAL COMPUTING TOOLS - NumPy offers comprehensive mathematical functions, random number generators, linear algebra routines, Fourier transforms etc. \n",
    "\n",
    "INTEROPERABLE - NumPy supports a range of computing platforms and plays well with distributed sparse array libraries.\n",
    "\n",
    "EASY TO USE - NumPy’s high level syntax makes it accessible and effective for programmers from any background or experience level. \n",
    "\n",
    "#https://www.w3schools.com/python/numpy/numpy_intro.asp#:~:text=NumPy%20is%20a%20Python%20library,NumPy%20stands%20for%20Numerical%20Python.\n",
    "https://numpy.org/\n",
    "\n",
    "\n",
    "\n",
    "\n",
    "\n",
    "import pandas as pd\n",
    "import numpy as np"
   ],
   "cell_type": "markdown",
   "metadata": {}
  },
  {
   "cell_type": "code",
   "execution_count": null,
   "metadata": {},
   "outputs": [],
   "source": [
    "import pandas as pd \n",
    "import numpy as np"
   ]
  },
  {
   "source": [
    "#PERFORMING BIOINFORMATICS ANALYSIS: \n",
    "\n",
    "#Here, I could not really plot the data. Instead I've decided to use ExcelWriter to export the data of common isoform genes to an excel sheet. This way I can acess it easily and import it as a csv file if I need to maipulate it in the future. \n",
    "\n",
    "#ExcelWriter: Is a commonly used tool for writing dataframe objects into excel sheets. \n",
    "#ex: with ExcelWriter('path_to_file.xlsx') as writer:\n",
    "    df.to_excel(writer)\n",
    "\n",
    "#https://pandas.pydata.org/pandas-docs/stable/reference/api/pandas.ExcelWriter.html\n",
    "\n",
    "#I know there are other ways to visualize data, but in this case I believe that this is the best option. We have the number of genes in common and I can visualize it in the pandas excel output.\n"
   ],
   "cell_type": "markdown",
   "metadata": {}
  },
  {
   "source": [
    "In the cell below, I am adding 7 to the start positions to find the end position of the cleavage site in a 8-mer. I try doing this for one row first and then do it to all the rows with different genes. "
   ],
   "cell_type": "markdown",
   "metadata": {}
  },
  {
   "cell_type": "code",
   "execution_count": 12,
   "metadata": {},
   "outputs": [],
   "source": [
    "import pandas as pd \n",
    "\n",
    "df = pd.read_csv('counts_tog_AGM_ORFeome_mapping.csv')\n",
    "\n",
    "#Take start col, generate stop positions\n",
    "a = df['start']#same as df.start -- here we are just previewing values from the df col named 'start'\n",
    "#print(a) #quick diagnostic print\n",
    "df['stop_pos']=df['start']+7 #add 7 to every single element in df['start'] and save to new col named 'stop_pos'\n",
    "#print(df['stop_pos'])\n",
    "\n",
    "#Goal #1: Try to move stop_pos col next to start, for cleanliness, but very optional\n",
    "#Other side goals: renaming cols\n",
    "\n",
    "#Goal #2: Create now 8 new columns, you may keep them blank/with 0's OR fill them immediately upon creation (as we did with stop_pos) -- If fill with real values, see goal #3\n",
    "\n",
    "#Goal #3: Map IDs of same type between two csv files, then extract associated values fro one of the csv files\n",
    "#Use NM_IDs from the cleavage dataframe to match with NM_IDs from Bryant's table and then subsequently pull associated, desired data\n",
    "#A) Find all entries in Pascaf table with matching ID\n"
   ]
  },
  {
   "source": [
    "Stop positions for all the genes "
   ],
   "cell_type": "markdown",
   "metadata": {}
  },
  {
   "cell_type": "code",
   "execution_count": 40,
   "metadata": {},
   "outputs": [
    {
     "output_type": "stream",
     "name": "stdout",
     "text": [
      "0        230\n1        234\n2        991\n3        352\n4        514\n        ... \n95261    375\n95262    804\n95263     21\n95264    225\n95265    359\nName: stop, Length: 95266, dtype: int64\n"
     ]
    },
    {
     "output_type": "execute_result",
     "data": {
      "text/plain": [
       "95266"
      ]
     },
     "metadata": {},
     "execution_count": 40
    }
   ],
   "source": [
    "# Generating stop values. For a detailed version, look at Counts tog.ipynb \n",
    "import pandas as pd \n",
    "#making the ORF table a dataframe  \n",
    "df.ORF = pd.read_csv('counts_tog_AGM_ORFeome_mapping.csv')\n",
    "#defining the variable a as the start value column\n",
    "a = df.ORF['start']\n",
    "#defining the stop value column as the start+7 \n",
    "df.ORF['stop']=df.ORF['start']+7\n",
    "#printing the stop values \n",
    "print(df.ORF['stop'])\n",
    "#Adding these stop values to the excel sheet. Can change the excel sheet name if I wanted to add ot to a different one \n",
    "df.ORF['stop'].to_excel('counts_tog_AGM_ORFeome_mapping.xlsx')\n",
    "len(df.ORF['stop'])"
   ]
  },
  {
   "source": [
    "In the cell below, I move the stop column next to the start column for cleanliness. The output is seen as a list. "
   ],
   "cell_type": "markdown",
   "metadata": {}
  },
  {
   "cell_type": "code",
   "execution_count": 35,
   "metadata": {},
   "outputs": [
    {
     "output_type": "stream",
     "name": "stdout",
     "text": [
      "['_Counts_', 'Gene_Sym', 'Ref_SEQ', 'start', 'Nuc_start', 'Num_missing', 'Num_present', 'Hit_Ratio', 'Total_AA_Length', 'Trimer_motif', 'Unique_Seqs', 'Concat_Aln', 'Gene_Desc', 'Two_Fold_Up', 'Five_Fold_Up', 'Two_Fold_Down', 'Five_Fold_Down', 'PC1', 'Best_pval_org', 'Best_pval', 'Human_pval', 'AA_String', 'Toggle_Num', 'Gene_Tog_Num', 'AA_String_Map', 'Pos_Sel_Res', 'P4', 'P3', 'P2', 'P1', 'P1p', 'P2p', 'P3p', 'P4p', 'AGM_pval', 'ORF_ID', 'Resource_Plate', 'Resource_Position', 'ORF_Nuc_Length', 'Unnamed: 39', 'stop']\n"
     ]
    }
   ],
   "source": [
    "# moving stop col next to start\n",
    "\n",
    "import pandas as pd \n",
    "\n",
    "df.ORF = pd.read_csv('counts_tog_AGM_ORFeome_mapping.csv')\n",
    "titles = list(df.ORF.columns)\n",
    "print(titles)\n",
    "\n",
    "new_columns=(['_Counts_','Gene_Sym','Ref_SEQ','start','stop','Nuc_start','Num_missing','Num_present','Hit_Ratio','Total_AA_Length','Trimer_motif','Unique_Seqs','Concat_Aln','Gene_Desc','Two_Fold_Up','Five_Fold_Up','Two_Fold_Down','Five_Fold_Down','PC1','Best_pval_org','Best_pval','Human_pval','AA_String','Toggle_Num','Gene_Tog_Num','AA_String_Map','Pos_Sel_Res','P4','P3','P2','P1','P1p','P2p','P3p','P4p','AGM_pval','ORF_ID','Resource_Plate','Resource_Position','ORF_Nuc_Length','Nuc_start'])\n",
    "\n",
    "\n",
    "\n",
    "\n",
    "\n",
    "\n",
    "\n",
    "\n"
   ]
  },
  {
   "source": [
    "Next, I added 8 new columns to the data set. Each column refers to each site in the 8-mer. If there is polymorphism in each site, we can indicate it in th enewly formed columns. "
   ],
   "cell_type": "markdown",
   "metadata": {}
  },
  {
   "cell_type": "code",
   "execution_count": 50,
   "metadata": {},
   "outputs": [],
   "source": [
    "#Adding 8 new columns \n",
    "\n",
    "import numpy as np \n",
    "#adds 95266 zeros in the column 'zero'\n",
    "zero = np.zeros( (95266))\n",
    "df.ORF['zero']=zero\n",
    "#adds 95266 zeros in the column 'one'\n",
    "one=np.zeros( (95266))\n",
    "df.ORF['one']=one\n",
    "#adds 95266 zeros in the column 'two'\n",
    "two=np.zeros( (95266))\n",
    "df.ORF['two']=two\n",
    "#adds 95266 zeros in the column 'three'\n",
    "three=np.zeros( (95266))\n",
    "df.ORF['three']=three\n",
    "#adds 95266 zeros in the column 'four'\n",
    "four=np.zeros( (95266))\n",
    "df.ORF['four']=four\n",
    "#adds 95266 zeros in the column 'five'\n",
    "five=np.zeros( (95266))\n",
    "df.ORF['five']=five\n",
    "#adds 95266 zeros in the column 'six'\n",
    "six=np.zeros( (95266))\n",
    "df.ORF['six']=six\n",
    "#adds 95266 zeros in the column 'seven'\n",
    "seven=np.zeros( (95266))\n",
    "df.ORF['seven']=seven\n",
    "\n",
    "df.ORF\n",
    "with pd.ExcelWriter('Counts.xlsx') as writer:\n",
    "    df.ORF.to_excel(writer)\n",
    "\n",
    "\n"
   ]
  },
  {
   "source": [
    "In the cell below, I cross check two data sets to find out the common gene names in both of the data set sand print them out. The ouput shows the common gene IDs. "
   ],
   "cell_type": "markdown",
   "metadata": {}
  },
  {
   "cell_type": "code",
   "execution_count": 58,
   "metadata": {
    "tags": [
     "outputPrepend"
    ]
   },
   "outputs": [
    {
     "output_type": "stream",
     "name": "stdout",
     "text": [
      ", 'NM_004536', 'NM_004536', 'NM_004536', 'NM_004536', 'NM_004536', 'NM_004536', 'NM_004536', 'NM_004536', 'NM_004536', 'NM_004536', 'NM_004536', 'NM_004536', 'NM_004536', 'NM_004536', 'NM_004536', 'NM_004536', 'NM_004536', 'NM_004536', 'NM_004536', 'NM_004536', 'NM_004536', 'NM_004536', 'NM_004536', 'NM_004536', 'NM_004536', 'NM_004536', 'NM_004536', 'NM_004536', 'NM_004536', 'NM_004536', 'NM_004536', 'NM_004536', 'NM_004536', 'NM_004536', 'NM_004536', 'NM_004536', 'NM_004536', 'NM_004536', 'NM_004536', 'NM_004536', 'NM_004536', 'NM_004536', 'NM_004536', 'NM_004536', 'NM_004536', 'NM_004536', 'NM_004536', 'NM_004536', 'NM_004536', 'NM_004536', 'NM_004536', 'NM_004536', 'NM_004536', 'NM_004536', 'NM_004536', 'NM_004536', 'NM_004536', 'NM_004536', 'NM_004536', 'NM_004536', 'NM_004536', 'NM_004536', 'NM_004536', 'NM_004536', 'NM_004536', 'NM_004536', 'NM_004536', 'NM_004536', 'NM_004536', 'NM_004536', 'NM_004536', 'NM_004536', 'NM_004536', 'NM_004536', 'NM_004536', 'NM_004536', 'NM_004536', 'NM_004536', 'NM_004536', 'NM_004536', 'NM_004536', 'NM_004536', 'NM_004536', 'NM_004536', 'NM_004536', 'NM_004536', 'NM_004536', 'NM_004536', 'NM_004536', 'NM_004536', 'NM_004536', 'NM_004536', 'NM_004536', 'NM_004536', 'NM_004536', 'NM_004536', 'NM_004536', 'NM_004536', 'NM_004536', 'NM_004536', 'NM_004536', 'NM_004536', 'NM_004536', 'NM_004536', 'NM_004536', 'NM_004536', 'NM_004536', 'NM_004536', 'NM_004536', 'NM_004536', 'NM_004536', 'NM_004536', 'NM_004536', 'NM_004536', 'NM_004536', 'NM_004536', 'NM_004536', 'NM_004536', 'NM_004536', 'NM_004536', 'NM_004536', 'NM_004536', 'NM_004536', 'NM_004536', 'NM_004536', 'NM_004536', 'NM_004536', 'NM_004536', 'NM_004536', 'NM_004536', 'NM_004536', 'NM_004536', 'NM_004536', 'NM_004536', 'NM_004536', 'NM_004536', 'NM_004536', 'NM_004536', 'NM_004536', 'NM_004536', 'NM_004536', 'NM_004536', 'NM_004536', 'NM_004536', 'NM_004536', 'NM_004536', 'NM_004536', 'NM_004536', 'NM_004536', 'NM_004536', 'NM_004536', 'NM_004536', 'NM_004536', 'NM_004536', 'NM_004536', 'NM_004536', 'NM_004536', 'NM_004536', 'NM_001281428', 'NM_001281428', 'NM_001281428', 'NM_001281428', 'NM_001281428', 'NM_001281428', 'NM_001281428', 'NM_001281428', 'NM_053278', 'NM_053278', 'NM_053278', 'NM_194291', 'NM_002191', 'NM_002191', 'NM_002191', 'NM_153446', 'NM_006111', 'NM_006111', 'NM_006111', 'NM_203412', 'NM_203412', 'NM_203412', 'NM_203412', 'NM_033386', 'NM_033386', 'NM_033386', 'NM_033386', 'NM_033386', 'NM_080473', 'NM_080473', 'NM_080473', 'NM_080669', 'NM_002419', 'NM_002419', 'NM_002419', 'NM_002419', 'NM_002419', 'NM_002419', 'NM_144713', 'NM_144713', 'NM_144713', 'NM_144713', 'NM_144713', 'NM_144713', 'NM_144713', 'NM_000069', 'NM_000069', 'NM_000069', 'NM_000069', 'NM_000069', 'NM_000069', 'NM_000069', 'NM_000069', 'NM_000069', 'NM_000069', 'NM_020369', 'NM_020369', 'NM_020369', 'NM_020369', 'NM_020369', 'NM_014924', 'NM_014924', 'NM_138356', 'NM_138356', 'NM_003941', 'NM_032593', 'NM_002472', 'NM_002472', 'NM_002472', 'NM_002472', 'NM_002472', 'NM_002472', 'NM_002472', 'NM_002472', 'NM_152435', 'NM_032313', 'NM_032313', 'NM_032313', 'NM_194293', 'NM_194293', 'NM_194293', 'NM_194293', 'NM_194293', 'NM_194293', 'NM_194293', 'NM_194293', 'NM_194293', 'NM_194293', 'NM_194293', 'NM_194293', 'NM_194293', 'NM_006738', 'NM_006738', 'NM_006738', 'NM_006738', 'NM_006738', 'NM_006738', 'NM_006738', 'NM_006738', 'NM_006738', 'NM_006738', 'NM_006738', 'NM_006738', 'NM_006738', 'NM_006738', 'NM_006738', 'NM_006738', 'NM_006738', 'NM_020714', 'NM_020714', 'NM_020714', 'NM_020714', 'NM_001004419', 'NM_001004419', 'NM_001004419', 'NM_000220', 'NM_001005212', 'NM_001172818', 'NM_001172818', 'NM_001172818', 'NM_001172818', 'NM_022078', 'NM_022078', 'NM_022078', 'NM_022078', 'NM_022078', 'NM_031949', 'NM_031949', 'NM_031949', 'NM_031949', 'NM_031949', 'NM_001177506', 'NM_001177506', 'NM_001177506', 'NM_001177506', 'NM_001177506', 'NM_001177506', 'NM_001177506', 'NM_001145303', 'NM_001145303', 'NM_001145303', 'NM_001145303', 'NM_001145303', 'NM_001145303', 'NM_001145303', 'NM_001145303', 'NM_001145303', 'NM_001145303', 'NM_001145303', 'NM_001145303', 'NM_001145303', 'NM_001145303', 'NM_001145303', 'NM_001145303', 'NM_001145303', 'NM_001145303', 'NM_001145303', 'NM_001145303', 'NM_001145303', 'NM_001145303', 'NM_001145303', 'NM_001145303', 'NM_001145303', 'NM_001145303', 'NM_001145303', 'NM_001145303', 'NM_001145303', 'NM_001145303', 'NM_001145303', 'NM_001145303', 'NM_001145303', 'NM_001145303', 'NM_001145303', 'NM_001145303', 'NM_001145303', 'NM_001145303', 'NM_001145303', 'NM_001145303', 'NM_001145303', 'NM_001145303', 'NM_001145303', 'NM_001145303', 'NM_001145303', 'NM_001145303', 'NM_001145303', 'NM_001145303', 'NM_001145303', 'NM_001145303', 'NM_032649', 'NM_032649', 'NM_032649', 'NM_001207068', 'NM_003681', 'NM_016642', 'NM_016642', 'NM_016642', 'NM_016642', 'NM_016642', 'NM_016642', 'NM_016642', 'NM_016642', 'NM_016642', 'NM_016642', 'NM_016642', 'NM_016642', 'NM_016642', 'NM_016642', 'NM_016642', 'NM_016642', 'NM_016642', 'NM_016642', 'NM_016642', 'NM_016642', 'NM_016642', 'NM_016642', 'NM_016642', 'NM_016642', 'NM_016642', 'NM_016642', 'NM_016642', 'NM_016642', 'NM_016642', 'NM_016642', 'NM_016642', 'NM_016642', 'NM_016642', 'NM_016642', 'NM_016642', 'NM_016642', 'NM_016642', 'NM_016642', 'NM_016642', 'NM_016642', 'NM_016642', 'NM_016642', 'NM_016642', 'NM_016642', 'NM_016642', 'NM_016642', 'NM_016642', 'NM_016642', 'NM_016642', 'NM_016642', 'NM_016642', 'NM_016642', 'NM_016642', 'NM_016642', 'NM_016642', 'NM_016642', 'NM_016642', 'NM_016642', 'NM_016642', 'NM_016642', 'NM_016642', 'NM_016642', 'NM_016642', 'NM_182847', 'NM_182847', 'NM_182847', 'NM_182847', 'NM_182847', 'NM_182847', 'NM_206933', 'NM_206933', 'NM_206933', 'NM_206933', 'NM_206933', 'NM_206933', 'NM_206933', 'NM_206933', 'NM_206933', 'NM_206933', 'NM_206933', 'NM_206933', 'NM_206933', 'NM_206933', 'NM_206933', 'NM_206933', 'NM_206933', 'NM_206933', 'NM_206933', 'NM_206933', 'NM_206933', 'NM_206933', 'NM_206933', 'NM_206933', 'NM_206933', 'NM_206933', 'NM_206933', 'NM_206933', 'NM_206933', 'NM_153236', 'NM_153236', 'NM_153236', 'NM_020233', 'NM_020233', 'NM_020233', 'NM_000111', 'NM_000111', 'NM_000111', 'NM_000111', 'NM_005484', 'NM_000547', 'NM_000547', 'NM_000547', 'NM_000547', 'NM_000547', 'NM_000547', 'NM_000547', 'NM_000547', 'NM_000547', 'NM_000547', 'NM_000547', 'NM_000547', 'NM_000547', 'NM_000547', 'NM_000547', 'NM_000547', 'NM_000547', 'NM_000547', 'NM_000547', 'NM_000547', 'NM_000547', 'NM_000547', 'NM_000547', 'NM_000547', 'NM_000547', 'NM_000547', 'NM_000547', 'NM_000547', 'NM_000547', 'NM_000547', 'NM_000547', 'NM_000547', 'NM_000547', 'NM_000547', 'NM_000547', 'NM_000547', 'NM_002638', 'NM_152628', 'NM_152628', 'NM_152628', 'NM_152628', 'NM_152628', 'NM_152628', 'NM_152628', 'NM_020787', 'NM_020787', 'NM_031886', 'NM_001080450', 'NM_001080450', 'NM_001080450', 'NM_015021', 'NM_015021', 'NM_015021', 'NM_015021', 'NM_015021', 'NM_015021', 'NM_015021', 'NM_015021', 'NM_015021', 'NM_015021', 'NM_015021', 'NM_015021', 'NM_015021', 'NM_015021', 'NM_015021', 'NM_015021', 'NM_015021', 'NM_015021', 'NM_015021', 'NM_015021', 'NM_015021', 'NM_015021', 'NM_015021', 'NM_015021', 'NM_015021', 'NM_015021', 'NM_015021', 'NM_001624', 'NM_001624', 'NM_001624', 'NM_001624', 'NM_001624', 'NM_001624', 'NM_001624', 'NM_001624', 'NM_001624', 'NM_001624', 'NM_001624', 'NM_001624', 'NM_001624', 'NM_001624', 'NM_001624', 'NM_001134367', 'NM_001134367', 'NM_001134367', 'NM_000744', 'NM_000744', 'NM_145728', 'NM_145728', 'NM_145728', 'NM_145728', 'NM_145728', 'NM_001261435', 'NM_001261435', 'NM_001014433', 'NM_001014433', 'NM_001014433', 'NM_001014433', 'NM_001039948', 'NM_001039948', 'NM_001039948', 'NM_001039948', 'NM_001039948', 'NM_001039948', 'NM_001039948', 'NM_001039948', 'NM_001039948', 'NM_001039948', 'NM_001039948', 'NM_018932', 'NM_018932', 'NM_018932', 'NM_018932', 'NM_018932', 'NM_001067', 'NM_182595', 'NM_182595', 'NM_182595', 'NM_182595', 'NM_182595', 'NM_182595', 'NM_182595', 'NM_182595', 'NM_182595', 'NM_182595', 'NM_007280', 'NM_007280', 'NM_018368', 'NM_001014985', 'NM_001014985', 'NM_001014985', 'NM_015044', 'NM_015044', 'NM_015044', 'NM_015044', 'NM_015044', 'NM_015044', 'NM_015044', 'NM_015044', 'NM_015044', 'NM_001251902', 'NM_001251902', 'NM_001251902', 'NM_001251902', 'NM_001251902', 'NM_194286', 'NM_194286', 'NM_194286', 'NM_194286', 'NM_194286', 'NM_005540', 'NM_182974', 'NM_182974', 'NM_182974', 'NM_182974', 'NM_182974', 'NM_005815', 'NM_005815', 'NM_005815', 'NM_005815', 'NM_194302', 'NM_194302', 'NM_194302', 'NM_194302', 'NM_194302', 'NM_194302', 'NM_194302', 'NM_194302', 'NM_194302', 'NM_194302', 'NM_194302', 'NM_194302', 'NM_031246', 'NM_031246', 'NM_031246', 'NM_031246', 'NM_014503', 'NM_014503', 'NM_014503', 'NM_014503', 'NM_014503', 'NM_014503', 'NM_014503', 'NM_014503', 'NM_014503', 'NM_014503', 'NM_014503', 'NM_014503', 'NM_001012338', 'NM_001001661', 'NM_001001661', 'NM_001001661', 'NM_001001661', 'NM_001001661', 'NM_001306080', 'NM_001306080', 'NM_001306080', 'NM_001306080', 'NM_001306080', 'NM_001306080', 'NM_001306080', 'NM_001306080', 'NM_001306080', 'NM_001306080', 'NM_013289', 'NM_013289', 'NM_013289', 'NM_013289', 'NM_013289', 'NM_013289', 'NM_013289', 'NM_013289', 'NM_013289', 'NM_013289', 'NM_013289', 'NM_013289', 'NM_013289', 'NM_013289', 'NM_013289', 'NM_013289', 'NM_013289', 'NM_013289', 'NM_013289', 'NM_013289', 'NM_013289', 'NM_013289', 'NM_013289', 'NM_013289', 'NM_013289', 'NM_013289', 'NM_013289', 'NM_013289', 'NM_013289', 'NM_013289', 'NM_013289', 'NM_013289', 'NM_013289', 'NM_013289', 'NM_013289', 'NM_013289', 'NM_013289', 'NM_013289', 'NM_013289', 'NM_013289', 'NM_013289', 'NM_013289', 'NM_013289', 'NM_013289', 'NM_013289', 'NM_013289', 'NM_013289', 'NM_013289', 'NM_013289', 'NM_013289', 'NM_013289', 'NM_013289', 'NM_013289', 'NM_013289', 'NM_013289', 'NM_013289', 'NM_013289', 'NM_013289', 'NM_013289', 'NM_013289', 'NM_013289', 'NM_013289', 'NM_013289', 'NM_013289', 'NM_013289', 'NM_013289', 'NM_013289', 'NM_013289', 'NM_013289', 'NM_013289', 'NM_013289', 'NM_013289', 'NM_013289', 'NM_013289', 'NM_013289', 'NM_013289', 'NM_013289', 'NM_013289', 'NM_013289', 'NM_013289', 'NM_013289', 'NM_013289', 'NM_013289', 'NM_013289', 'NM_013289', 'NM_013289', 'NM_013289', 'NM_013289', 'NM_013289', 'NM_013289', 'NM_013289', 'NM_013289', 'NM_013289', 'NM_013289', 'NM_013289', 'NM_013289', 'NM_013289', 'NM_013289', 'NM_013289', 'NM_013289', 'NM_013289', 'NM_013289', 'NM_013289', 'NM_013289', 'NM_013289', 'NM_013289', 'NM_013289', 'NM_013289', 'NM_013289', 'NM_013289', 'NM_013289', 'NM_013289', 'NM_013289', 'NM_013289', 'NM_013289', 'NM_013289', 'NM_013289', 'NM_013289', 'NM_013289', 'NM_013289', 'NM_013289', 'NM_013289', 'NM_013289', 'NM_013289', 'NM_013289', 'NM_013289', 'NM_013289', 'NM_013289', 'NM_013289', 'NM_013289', 'NM_013289', 'NM_013289', 'NM_013289', 'NM_013289', 'NM_013289', 'NM_013289', 'NM_013289', 'NM_013289', 'NM_013289', 'NM_013289', 'NM_013289', 'NM_013289', 'NM_013289', 'NM_013289', 'NM_013289', 'NM_013289', 'NM_013289', 'NM_013289', 'NM_013289', 'NM_013289', 'NM_013289', 'NM_013289', 'NM_013289', 'NM_013289', 'NM_013289', 'NM_013289', 'NM_013289', 'NM_013289', 'NM_013289', 'NM_013289', 'NM_013289', 'NM_013289', 'NM_013289', 'NM_013289', 'NM_013289', 'NM_013289', 'NM_013289', 'NM_013289', 'NM_013289', 'NM_013289', 'NM_013289', 'NM_013289', 'NM_013289', 'NM_013289', 'NM_013289', 'NM_013289', 'NM_013289', 'NM_013289', 'NM_013289', 'NM_013289', 'NM_013289', 'NM_013289', 'NM_013289', 'NM_013289', 'NM_013289', 'NM_013289', 'NM_013289', 'NM_013289', 'NM_013289', 'NM_013289', 'NM_013289', 'NM_013289', 'NM_013289', 'NM_013289', 'NM_013289', 'NM_013289', 'NM_013289', 'NM_013289', 'NM_013289', 'NM_013289', 'NM_013289', 'NM_013289', 'NM_013289', 'NM_013289', 'NM_013289', 'NM_013289', 'NM_013289', 'NM_013289', 'NM_013289', 'NM_013289', 'NM_013289', 'NM_013289', 'NM_013289', 'NM_013289', 'NM_013289', 'NM_013289', 'NM_013289', 'NM_013289', 'NM_013289', 'NM_013289', 'NM_013289', 'NM_013289', 'NM_013289', 'NM_013289', 'NM_013289', 'NM_013289', 'NM_013289', 'NM_013289', 'NM_013289', 'NM_013289', 'NM_013289', 'NM_013289', 'NM_013289', 'NM_013289', 'NM_013289', 'NM_013289', 'NM_013289', 'NM_013289', 'NM_013289', 'NM_013289', 'NM_013289', 'NM_013289', 'NM_013289', 'NM_013289', 'NM_013289', 'NM_013289', 'NM_013289', 'NM_013289', 'NM_013289', 'NM_013289', 'NM_013289', 'NM_013289', 'NM_013289', 'NM_013289', 'NM_013289', 'NM_013289', 'NM_013289', 'NM_013289', 'NM_013289', 'NM_013289', 'NM_013289', 'NM_013289', 'NM_013289', 'NM_013289', 'NM_013289', 'NM_013289', 'NM_013289', 'NM_013289', 'NM_013289', 'NM_013289', 'NM_013289', 'NM_013289', 'NM_013289', 'NM_001293725', 'NM_001293725', 'NM_001293725', 'NM_001293725', 'NM_182521', 'NM_182521', 'NM_182521', 'NM_182521', 'NM_182521', 'NM_182521', 'NM_182521', 'NM_000486', 'NM_018938', 'NM_018938', 'NM_018938', 'NM_018938', 'NM_018938', 'NM_018938', 'NM_001010969', 'NM_001010969', 'NM_001010969', 'NM_001010969', 'NM_001010969', 'NM_001010969', 'NM_005462', 'NM_005462', 'NM_005462', 'NM_005462', 'NM_005462', 'NM_005462', 'NM_005462', 'NM_005462', 'NM_005462', 'NM_005462', 'NM_005462', 'NM_005462', 'NM_005462', 'NM_005462', 'NM_005462', 'NM_005462', 'NM_005462', 'NM_005462', 'NM_005462', 'NM_005462', 'NM_005462', 'NM_005462', 'NM_005462', 'NM_005462', 'NM_005462', 'NM_005462', 'NM_005462', 'NM_005462', 'NM_005462', 'NM_005462', 'NM_005462', 'NM_005462', 'NM_005462', 'NM_005462', 'NM_005462', 'NM_005462', 'NM_005462', 'NM_005462', 'NM_005462', 'NM_005462', 'NM_005462', 'NM_005462', 'NM_005462', 'NM_005462', 'NM_005462', 'NM_005462', 'NM_005462', 'NM_005462', 'NM_005462', 'NM_005462', 'NM_005462', 'NM_005462', 'NM_005462', 'NM_005462', 'NM_005462', 'NM_005462', 'NM_005462', 'NM_005462', 'NM_005462', 'NM_005462', 'NM_005462', 'NM_005462', 'NM_005462', 'NM_005462', 'NM_005462', 'NM_005462', 'NM_005462', 'NM_005462', 'NM_005462', 'NM_005462', 'NM_005462', 'NM_005462', 'NM_021916', 'NM_021916', 'NM_021916', 'NM_021916', 'NM_021916', 'NM_021916', 'NM_021916', 'NM_021916', 'NM_030802', 'NM_030802', 'NM_030802', 'NM_018087', 'NM_001010844', 'NM_001010844', 'NM_001256887', 'NM_001256887', 'NM_001256887', 'NM_021143', 'NM_025099', 'NM_025099', 'NM_025099', 'NM_025099', 'NM_025099', 'NM_025099', 'NM_025099', 'NM_025099', 'NM_025099', 'NM_001718', 'NM_001718', 'NM_032334', 'NM_032334', 'NM_032334', 'NM_021738', 'NM_021738', 'NM_021738', 'NM_021738', 'NM_021738', 'NM_021738', 'NM_001288968', 'NM_001288968', 'NM_001288968', 'NM_001288968', 'NM_033386', 'NM_033386', 'NM_033386', 'NM_033386', 'NM_033386', 'NM_000395', 'NM_000395', 'NM_000395', 'NM_000395', 'NM_000395', 'NM_000395', 'NM_000395', 'NM_000395', 'NM_000395', 'NM_000395', 'NM_000395', 'NM_024754', 'NM_172207', 'NM_019601', 'NM_019601', 'NM_019601', 'NM_019601', 'NM_019601', 'NM_019601', 'NM_019601', 'NM_001005237', 'NM_003004', 'NM_003004', 'NM_003004', 'NM_003004', 'NM_003004', 'NM_003004', 'NM_003004', 'NM_003004', 'NM_144590', 'NM_144590', 'NM_144590', 'NM_001282428', 'NM_003803', 'NM_003803', 'NM_003803', 'NM_003803', 'NM_003803', 'NM_003803', 'NM_003803', 'NM_003803', 'NM_003803', 'NM_003803', 'NM_003803', 'NM_003803', 'NM_003803', 'NM_003803', 'NM_032251', 'NM_032251', 'NM_032251', 'NM_032251', 'NM_032251', 'NM_032251', 'NM_032251', 'NM_032251', 'NM_032251', 'NM_032251', 'NM_032251', 'NM_032251', 'NM_032251', 'NM_032251', 'NM_032251', 'NM_032251', 'NM_032251', 'NM_032251', 'NM_032251', 'NM_032251', 'NM_032251', 'NM_032251', 'NM_032251', 'NM_032251', 'NM_032251', 'NM_032251', 'NM_032251', 'NM_032251', 'NM_001503', 'NM_001503', 'NM_001503', 'NM_001503', 'NM_001503', 'NM_001503', 'NM_003842', 'NM_003842', 'NM_003842', 'NM_003842', 'NM_001174146', 'NM_001174146', 'NM_001174146', 'NM_001174146', 'NM_001174146', 'NM_001174146', 'NM_001174146', 'NM_001174146', 'NM_001174146', 'NM_004099', 'NM_024407', 'NM_024407', 'NM_001130140', 'NM_001130140', 'NM_001130140', 'NM_001130140', 'NM_001130140', 'NM_001130140', 'NM_001130140', 'NM_001130140', 'NM_001130140', 'NM_024678', 'NM_024678', 'NM_178233', 'NM_152515', 'NM_152515', 'NM_014758', 'NM_014758', 'NM_014758', 'NM_014758', 'NM_014758', 'NM_014758', 'NM_014758', 'NM_014758', 'NM_014758', 'NM_004617', 'NM_001130031', 'NM_001130031', 'NM_001130031', 'NM_001130031', 'NM_178430', 'NM_178430', 'NM_024641', 'NM_024641', 'NM_024641', 'NM_024641', 'NM_024641', 'NM_024641', 'NM_000221', 'NM_000221', 'NM_017867', 'NM_017867', 'NM_017950', 'NM_018901', 'NM_018901', 'NM_018901', 'NM_018901', 'NM_018901', 'NM_015694', 'NM_015694', 'NM_015694', 'NM_015694', 'NM_015694', 'NM_015694', 'NM_005293', 'NM_005293', 'NM_005293', 'NM_005293', 'NM_004565', 'NM_004565', 'NM_004565', 'NM_004565', 'NM_001284259', 'NM_001284259', 'NM_001284259', 'NM_001284259', 'NM_001284259', 'NM_001284259', 'NM_001284259', 'NM_001284259', 'NM_001284259', 'NM_001284259', 'NM_001284259', 'NM_001284259', 'NM_001284259', 'NM_001284259', 'NM_001284259', 'NM_001017969', 'NM_001017969', 'NM_001017969', 'NM_001017969', 'NM_001017969', 'NM_001017969', 'NM_001017969', 'NM_001017969', 'NM_001017969', 'NM_001017969', 'NM_001017969', 'NM_181453', 'NM_181453', 'NM_181453', 'NM_181453', 'NM_181453', 'NM_181453', 'NM_181453', 'NM_181453', 'NM_181453', 'NM_181453', 'NM_181453', 'NM_181453', 'NM_181453', 'NM_181453', 'NM_181453', 'NM_181453', 'NM_181453', 'NM_181453', 'NM_144987', 'NM_144987', 'NM_001018070', 'NM_001018070', 'NM_014420', 'NM_014420', 'NM_001164211', 'NM_001164211', 'NM_001322', 'NM_001322', 'NM_001322', 'NM_001322', 'NM_032045', 'NM_000350', 'NM_000350', 'NM_000350', 'NM_000350', 'NM_000350', 'NM_000350', 'NM_000350', 'NM_000350', 'NM_000350', 'NM_000350', 'NM_000350', 'NM_000350', 'NM_000350', 'NM_000350', 'NM_000350', 'NM_057176', 'NM_057176', 'NM_057176', 'NM_057176', 'NM_057176', 'NM_001715', 'NM_001715', 'NM_001715', 'NM_001280558', 'NM_001280558', 'NM_001280558', 'NM_001113525', 'NM_001113525', 'NM_001113525', 'NM_001113525', 'NM_001145210', 'NM_001145210', 'NM_001145210', 'NM_001145210', 'NM_001145210', 'NM_014708', 'NM_014708', 'NM_014708', 'NM_014708', 'NM_014708', 'NM_014708', 'NM_014708', 'NM_014708', 'NM_014708', 'NM_014708', 'NM_014708', 'NM_014708', 'NM_001122956', 'NM_001122956', 'NM_212558', 'NM_212558', 'NM_212558', 'NM_212558', 'NM_212558', 'NM_212558', 'NM_014630', 'NM_014630', 'NM_014630', 'NM_014630', 'NM_001004052', 'NM_001004052', 'NM_000452', 'NM_000452', 'NM_017578', 'NM_017578', 'NM_001002261', 'NM_001080480', 'NM_001080480', 'NM_152324', 'NM_080746', 'NM_080746', 'NM_182539', 'NM_182539', 'NM_182539', 'NM_022436', 'NM_022436', 'NM_022436', 'NM_173659', 'NM_024046', 'NM_024046', 'NM_024046', 'NM_024046', 'NM_001014342', 'NM_001014342', 'NM_001014342', 'NM_001014342', 'NM_001014342', 'NM_001014342', 'NM_001014342', 'NM_001014342', 'NM_001014342', 'NM_001014342', 'NM_001014342', 'NM_001014342', 'NM_001014342', 'NM_001014342', 'NM_001014342', 'NM_001014342', 'NM_001014342', 'NM_001014342', 'NM_001014342', 'NM_001014342', 'NM_001014342', 'NM_001014342', 'NM_001014342', 'NM_001014342', 'NM_001014342', 'NM_001014342', 'NM_001014342', 'NM_001014342', 'NM_001014342', 'NM_001014342', 'NM_001014342', 'NM_001014342', 'NM_001014342', 'NM_001014342', 'NM_001014342', 'NM_001014342', 'NM_001014342', 'NM_001014342', 'NM_001014342', 'NM_001014342', 'NM_001014342', 'NM_001014342', 'NM_001014342', 'NM_001014342', 'NM_001014342', 'NM_001014342', 'NM_001014342', 'NM_001014342', 'NM_001014342', 'NM_001014342', 'NM_001014342', 'NM_001014342', 'NM_001014342', 'NM_001014342', 'NM_001014342', 'NM_001014342', 'NM_001014342', 'NM_001014342', 'NM_001014342', 'NM_001014342', 'NM_001014342', 'NM_001014342', 'NM_001014342', 'NM_001014342', 'NM_001014342', 'NM_001014342', 'NM_001014342', 'NM_001014342', 'NM_001014342', 'NM_001014342', 'NM_001014342', 'NM_001014342', 'NM_001014342', 'NM_001014342', 'NM_001014342', 'NM_001014342', 'NM_001014342', 'NM_001014342', 'NM_001014342', 'NM_001014342', 'NM_001014342', 'NM_148901', 'NM_001102445', 'NM_001102445']\n"
     ]
    }
   ],
   "source": [
    "#create a list of the two ref_sequene columns \n",
    "column_names = [\"Ref_S\",'RefSeq']\n",
    "#create a dataframe, specify the csv file name and assign names to the column_names list you created above\n",
    "df = pd.read_csv('Ref_Sequences.csv', names=column_names)\n",
    "#now change the dataframes to list\n",
    "Ref_S = df.Ref_S.to_list()\n",
    "RefSeq = df.RefSeq.to_list()\n",
    "#create a new list to append the matched IDs to\n",
    "new_list=[]\n",
    "#For every num in list1, print num1 only is num is equal to num1. num and num1 are referring to each element in the list \n",
    "for num in Ref_S:\n",
    "    for num1 in RefSeq:\n",
    "        if num == num1:\n",
    "            new_list.append(num)\n",
    "print(new_list)\n"
   ]
  },
  {
   "cell_type": "code",
   "execution_count": 59,
   "metadata": {},
   "outputs": [
    {
     "output_type": "execute_result",
     "data": {
      "text/plain": [
       "7684"
      ]
     },
     "metadata": {},
     "execution_count": 59
    }
   ],
   "source": [
    "#There are duplicates in the clevage table. So, the matched IDs are more than th etotal number of Ref-Seq Ids in the pascaf table. The duplicates are deleted in the cell below. \n",
    "len(new_list)"
   ]
  },
  {
   "cell_type": "code",
   "execution_count": 61,
   "metadata": {},
   "outputs": [
    {
     "output_type": "stream",
     "name": "stdout",
     "text": [
      "['NM_024763', 'NM_014053', 'NM_015585', 'NM_001136219', 'NM_001005167', 'NM_001105569', 'NM_003433', 'NM_001166305', 'NM_000448', 'NM_001195831', 'NM_001145460', 'NM_004224', 'NM_001039503', 'NM_004688', 'NM_001282478', 'NM_001145434', 'NM_001291978', 'NM_001169', 'NM_015210', 'NM_023014', 'NM_001040462', 'NM_174952', 'NM_002278', 'NM_014272', 'NM_001044369', 'NM_006065', 'NM_002864', 'NM_145053', 'NM_001242894', 'NM_014757', 'NM_017681', 'NM_152658', 'NM_138477', 'NM_181645', 'NM_001134224', 'NM_032816', 'NM_001099695', 'NM_001302652', 'NM_024164', 'NM_001282866', 'NM_001177599', 'NM_001164425', 'NM_021268', 'NM_001145121', 'NM_001040025', 'NM_004388', 'NM_152329', 'NM_001013734', 'NM_006440', 'NM_003679', 'NM_152657', 'NM_001207052', 'NM_001037163', 'NM_001127178', 'NM_005385', 'NM_001007532', 'NM_001127610', 'NM_001282468', 'NM_001190482', 'NM_001004467', 'NM_001184', 'NM_015272', 'NM_017662', 'NM_015307', 'NM_031886', 'NM_002425', 'NM_019121', 'NM_031282', 'NM_080833', 'NM_003211', 'NM_001206927', 'NM_001005164', 'NM_058230', 'NM_001137671', 'NM_152730', 'NM_003830', 'NM_006063', 'NM_025179', 'NM_001256539', 'NM_153357', 'NM_005094', 'NM_004933', 'NM_031912', 'NM_001004746', 'NM_001300732', 'NM_182905', 'NM_015258', 'NM_152546', 'NM_144616', 'NM_020997', 'NM_007344', 'NM_003294', 'NM_182539', 'NM_001163334', 'NM_152424', 'NM_001099850', 'NM_194285', 'NM_001040280', 'NM_005715', 'NM_001101338', 'NM_018073', 'NM_001284308', 'NM_024063', 'NM_022460', 'NM_152640', 'NM_001004685', 'NM_001243750', 'NM_013325', 'NM_145290', 'NM_001004491', 'NM_052886', 'NM_005555', 'NM_001030015', 'NM_198557', 'NM_001127345', 'NM_174903', 'NM_005499', 'NM_001081442', 'NM_025074', 'NM_033215', 'NM_012176', 'NM_004279', 'NM_173482', 'NM_001014831', 'NM_001099415', 'NM_001145112', 'NM_032679', 'NM_005076', 'NM_012231', 'NM_001136112', 'NM_002171', 'NM_001007530', 'NM_032790', 'NM_182532', 'NM_017840', 'NM_053052', 'NM_004629', 'NM_080608', 'NM_001297598', 'NM_001105538', 'NM_016239', 'NM_002186', 'NM_022773', 'NM_002177', 'NM_001031803', 'NM_020649', 'NM_001005187', 'NM_001291464', 'NM_001005276', 'NM_001008801', 'NM_016571', 'NM_176887', 'NM_033448', 'NM_001001957', 'NM_007147', 'NM_017442', 'NM_133448', 'NM_152608', 'NM_001167595', 'NM_016523', 'NM_014680', 'NM_172138', 'NM_001128215', 'NM_001005279', 'NM_152445', 'NM_004610', 'NM_145804', 'NM_001099221', 'NM_001282628', 'NM_178857', 'NM_001032409', 'NM_001199654', 'NM_173551', 'NM_080282', 'NM_001040108', 'NM_001130924', 'NM_133259', 'NM_005459', 'NM_198546', 'NM_152324', 'NM_053004', 'NM_176884', 'NM_007120', 'NM_015347', 'NM_001256409', 'NM_172027', 'NM_152783', 'NM_001242581', 'NM_170710', 'NM_022917', 'NM_001080399', 'NM_002521', 'NM_004996', 'NM_001004731', 'NM_001005512', 'NM_020695', 'NM_000096', 'NM_001161630', 'NM_001080395', 'NM_004961', 'NM_005937', 'NM_052844', 'NM_001288746', 'NM_001170692', 'NM_003840', 'NM_001145168', 'NM_001201', 'NM_001077706', 'NM_005675', 'NM_130899', 'NM_018112', 'NM_001897', 'NM_000892', 'NM_001034850', 'NM_152419', 'NM_001080495', 'NM_016161', 'NM_022119', 'NM_153838', 'NM_001137669', 'NM_031460', 'NM_001048181', 'NM_001004717', 'NM_030802', 'NM_004486', 'NM_033229', 'NM_174913', 'NM_001303095', 'NM_001010909', 'NM_000513', 'NM_033449', 'NM_002533', 'NM_014465', 'NM_001206673', 'NM_001130413', 'NM_001008536', 'NM_001271441', 'NM_182703', 'NM_006953', 'NM_152781', 'NM_019108', 'NM_021035', 'NM_177551', 'NM_001004475', 'NM_001164484', 'NM_013941', 'NM_001145548', 'NM_020343', 'NM_002977', 'NM_001114403', 'NM_003447', 'NM_145200', 'NM_182515', 'NM_001014763', 'NM_001009611', 'NM_152435', 'NM_001195432', 'NM_144590', 'NM_018295', 'NM_020944', 'NM_033198', 'NM_000789', 'NM_001004753', 'NM_001084', 'NM_001282479', 'NM_001031705', 'NM_001184880', 'NM_001113523', 'NM_020964', 'NM_133475', 'NM_000542', 'NM_001146006', 'NM_031914', 'NM_001099287', 'NM_025184', 'NM_017762', 'NM_012067', 'NM_001251888', 'NM_000221', 'NM_080746', 'NM_002281', 'NM_080863', 'NM_001142685', 'NM_033378', 'NM_014906', 'NM_001037763', 'NM_001220488', 'NM_018919', 'NM_173801', 'NM_014866', 'NM_006849', 'NM_033120', 'NM_001193306', 'NM_001256714', 'NM_006249', 'NM_004079', 'NM_004882', 'NM_031303', 'NM_001145475', 'NM_001281443', 'NM_138331', 'NM_182663', 'NM_014695', 'NM_016332', 'NM_178353', 'NM_001301010', 'NM_003114', 'NM_207317', 'NM_002279', 'NM_001243766', 'NM_000638', 'NM_001278426', 'NM_001029976', 'NM_001199978', 'NM_021978', 'NM_000391', 'NM_012125', 'NM_015052', 'NM_194286', 'NM_005540', 'NM_017409', 'NM_001014446', 'NM_001193509', 'NM_001306080', 'NM_001162501', 'NM_213598', 'NM_006018', 'NM_016320', 'NM_003904', 'NM_001130064', 'NM_015049', 'NM_181712', 'NM_000710', 'NM_001080526', 'NM_002504', 'NM_001144952', 'NM_004608', 'NM_002263', 'NM_006587', 'NM_001037331', 'NM_172139', 'NM_003302', 'NM_080870', 'NM_006965', 'NM_005212', 'NM_001127212', 'NM_173464', 'NM_001002292', 'NM_001220', 'NM_001080426', 'NM_001103170', 'NM_003259', 'NM_033214', 'NM_001164407', 'NM_182496', 'NM_032856', 'NM_001001711', 'NM_015311', 'NM_003500', 'NM_014630', 'NM_001031694', 'NM_000696', 'NM_001289947', 'NM_018566', 'NM_016256', 'NM_170740', 'NM_173544', 'NM_022766', 'NM_000055', 'NM_000817', 'NM_201402', 'NM_001145304', 'NM_025237', 'NM_001130069', 'NM_052924', 'NM_024637', 'NM_001005275', 'NM_001632', 'NM_000934', 'NM_177543', 'NM_024672', 'NM_178469', 'NM_001775', 'NM_017703', 'NM_001267716', 'NM_014180', 'NM_005425', 'NM_001277291', 'NM_144987', 'NM_198491', 'NM_001271803', 'NM_001008405', 'NM_000333', 'NM_001177387', 'NM_001080537', 'NM_002557', 'NM_001898', 'NM_001256041', 'NM_001284338', 'NM_022757', 'NM_005876', 'NM_174981', 'NM_001017534', 'NM_153343', 'NM_006817', 'NM_001130142', 'NM_005959', 'NM_032382', 'NM_001261828', 'NM_207015', 'NM_015698', 'NM_001001959', 'NM_004557', 'NM_001100425', 'NM_002282', 'NM_001127392', 'NM_001145128', 'NM_001011719', 'NM_173353', 'NM_014804', 'NM_183057', 'NM_148414', 'NM_016474', 'NM_001282652', 'NM_020820', 'NM_172365', 'NM_178033', 'NM_025163', 'NM_019088', 'NM_001137610', 'NM_001145191', 'NM_019841', 'NM_020928', 'NM_001164465', 'NM_005575', 'NM_013362', 'NM_182552', 'NM_080859', 'NM_058165', 'NM_001080527', 'NM_207338', 'NM_033125', 'NM_033204', 'NM_001114108', 'NM_052966', 'NM_001077663', 'NM_001080414', 'NM_078471', 'NM_003008', 'NM_001004726', 'NM_001080998', 'NM_178536', 'NM_001242757', 'NM_004795', 'NM_144727', 'NM_018924', 'NM_001145346', 'NM_014702', 'NM_024865', 'NM_001426', 'NM_015412', 'NM_021965', 'NM_020947', 'NM_014509', 'NM_001101421', 'NM_030625', 'NM_001185106', 'NM_138809', 'NM_144962', 'NM_006766', 'NM_001255978', 'NM_173462', 'NM_015332', 'NM_013249', 'NM_001144856', 'NM_080869', 'NM_018460', 'NM_021958', 'NM_001300813', 'NM_053279', 'NM_001166693', 'NM_005340', 'NM_012368', 'NM_020759', 'NM_024803', 'NM_001001410', 'NM_016642', 'NM_152701', 'NM_001042573', 'NM_001001850', 'NM_178429', 'NM_198153', 'NM_001077639', 'NM_001282490', 'NM_003363', 'NM_001114120', 'NM_025107', 'NM_025207', 'NM_012188', 'NM_001297573', 'NM_022062', 'NM_014143', 'NM_001166208', 'NM_001002915', 'NM_024786', 'NM_020369', 'NM_018717', 'NM_001293725', 'NM_024928', 'NM_207305', 'NM_000804', 'NM_152628', 'NM_001372', 'NM_019020', 'NM_001407', 'NM_005286', 'NM_001199196', 'NM_001017990', 'NM_032579', 'NM_018227', 'NM_173659', 'NM_004237', 'NM_032777', 'NM_001148', 'NM_007204', 'NM_153486', 'NM_001164317', 'NM_020402', 'NM_145294', 'NM_001142447', 'NM_001033553', 'NM_152792', 'NM_201636', 'NM_001244682', 'NM_001009932', 'NM_006512', 'NM_138283', 'NM_000423', 'NM_001256614', 'NM_000769', 'NM_006678', 'NM_001003690', 'NM_002660', 'NM_001057', 'NM_014692', 'NM_001297568', 'NM_004667', 'NM_000291', 'NM_033515', 'NM_019083', 'NM_005544', 'NM_001103147', 'NM_015324', 'NM_173658', 'NM_001304349', 'NM_015407', 'NM_001008743', 'NM_002471', 'NM_017890', 'NM_001173988', 'NM_004913', 'NM_194292', 'NM_003331', 'NM_178034', 'NM_001008938', 'NM_173484', 'NM_017421', 'NM_001134742', 'NM_018929', 'NM_001170738', 'NM_001282472', 'NM_007261', 'NM_198321', 'NM_001134415', 'NM_199046', 'NM_000526', 'NM_005554', 'NM_016578', 'NM_181882', 'NM_001282456', 'NM_001242680', 'NM_001008269', 'NM_015393', 'NM_001010987', 'NM_173555', 'NM_000261', 'NM_002395', 'NM_006493', 'NM_001195643', 'NM_001098672', 'NM_173086', 'NM_001040710', 'NM_001009905', 'NM_006998', 'NM_030960', 'NM_001202513', 'NM_015206', 'NM_031479', 'NM_004536', 'NM_001281428', 'NM_053278', 'NM_194291', 'NM_002191', 'NM_153446', 'NM_006111', 'NM_203412', 'NM_033386', 'NM_080473', 'NM_080669', 'NM_002419', 'NM_144713', 'NM_000069', 'NM_014924', 'NM_138356', 'NM_003941', 'NM_032593', 'NM_002472', 'NM_032313', 'NM_194293', 'NM_006738', 'NM_020714', 'NM_001004419', 'NM_000220', 'NM_001005212', 'NM_001172818', 'NM_022078', 'NM_031949', 'NM_001177506', 'NM_001145303', 'NM_032649', 'NM_001207068', 'NM_003681', 'NM_182847', 'NM_206933', 'NM_153236', 'NM_020233', 'NM_000111', 'NM_005484', 'NM_000547', 'NM_002638', 'NM_020787', 'NM_001080450', 'NM_015021', 'NM_001624', 'NM_001134367', 'NM_000744', 'NM_145728', 'NM_001261435', 'NM_001014433', 'NM_001039948', 'NM_018932', 'NM_001067', 'NM_182595', 'NM_007280', 'NM_018368', 'NM_001014985', 'NM_015044', 'NM_001251902', 'NM_182974', 'NM_005815', 'NM_194302', 'NM_031246', 'NM_014503', 'NM_001012338', 'NM_001001661', 'NM_013289', 'NM_182521', 'NM_000486', 'NM_018938', 'NM_001010969', 'NM_005462', 'NM_021916', 'NM_018087', 'NM_001010844', 'NM_001256887', 'NM_021143', 'NM_025099', 'NM_001718', 'NM_032334', 'NM_021738', 'NM_001288968', 'NM_000395', 'NM_024754', 'NM_172207', 'NM_019601', 'NM_001005237', 'NM_003004', 'NM_001282428', 'NM_003803', 'NM_032251', 'NM_001503', 'NM_003842', 'NM_001174146', 'NM_004099', 'NM_024407', 'NM_001130140', 'NM_024678', 'NM_178233', 'NM_152515', 'NM_014758', 'NM_004617', 'NM_001130031', 'NM_178430', 'NM_024641', 'NM_017867', 'NM_017950', 'NM_018901', 'NM_015694', 'NM_005293', 'NM_004565', 'NM_001284259', 'NM_001017969', 'NM_181453', 'NM_001018070', 'NM_014420', 'NM_001164211', 'NM_001322', 'NM_032045', 'NM_000350', 'NM_057176', 'NM_001715', 'NM_001280558', 'NM_001113525', 'NM_001145210', 'NM_014708', 'NM_001122956', 'NM_212558', 'NM_001004052', 'NM_000452', 'NM_017578', 'NM_001002261', 'NM_001080480', 'NM_022436', 'NM_024046', 'NM_001014342', 'NM_148901', 'NM_001102445']\n"
     ]
    }
   ],
   "source": [
    "#Removed the duplicates from the clevage table\n",
    "final_answer=[]\n",
    "#The code says- add the number to the final_answer above unless the number is already present in the final_answer list. This removes the duplicates in the new_list. So, if the clevage table has five 3's and pascaf table has one 3, the new_list will have five 3's and the final answer will have only one 3. The duplicates are being removed\n",
    "for i in new_list:\n",
    "    if i not in final_answer:\n",
    "        final_answer.append(i)\n",
    "\n",
    "len(final_answer)\n",
    "print(final_answer)"
   ]
  },
  {
   "cell_type": "code",
   "execution_count": 65,
   "metadata": {},
   "outputs": [
    {
     "output_type": "stream",
     "name": "stdout",
     "text": [
      "0         NM_024763\n1         NM_014053\n2         NM_015585\n3      NM_001136219\n4      NM_001005167\n           ...     \n732       NM_022436\n733       NM_024046\n734    NM_001014342\n735       NM_148901\n736    NM_001102445\nName: Matched_IDs, Length: 737, dtype: object\n"
     ]
    }
   ],
   "source": [
    "import pandas as pd \n",
    "#Converting the list to a datframe. Name a new dataframe and define it as pd. DataFrame(), with the name of the list and the name of the column\n",
    "df.Matched_IDs = pd.DataFrame(final_answer,columns=['Matched_IDs'])\n",
    "print(df.Matched_IDs)"
   ]
  },
  {
   "cell_type": "code",
   "execution_count": 69,
   "metadata": {},
   "outputs": [],
   "source": [
    "df.Matched_IDs\n",
    "with pd.ExcelWriter('Matched_IDs.xlsx') as writer:\n",
    "    df.Matched_IDs.to_excel(writer)\n"
   ]
  },
  {
   "source": [
    "Analyzing the Data: \n",
    "\n",
    "The scientific question is answered by the code above. Out of 95,266 genes, there are 7684 genes in common (including the duplicates) and 737 when the duplicates are removed. The data set with the polymorphism information indicated that not all the genes with cleavage sites in the dataset 1 have mutations. This proves that having a clevage site does not mean that there will be polymorphism in the gene. Some sites evolve to avoid clevage by viral proteases. However, some reamain the same. Hence, the hypothesis is proved wrong. Having a cleavage site in a gene does not mean that it will have population diversity. "
   ],
   "cell_type": "markdown",
   "metadata": {}
  }
 ]
}